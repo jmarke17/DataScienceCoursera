{
 "cells": [
  {
   "cell_type": "markdown",
   "source": [
    "# My Jupyter Notebook on IBM Watson Studio"
   ],
   "metadata": {
    "collapsed": false
   }
  },
  {
   "cell_type": "markdown",
   "source": [
    "**Juan Marquesán**\n",
    "Senior Data Engineer"
   ],
   "metadata": {
    "collapsed": false
   }
  },
  {
   "cell_type": "markdown",
   "source": [
    "*I am interested in data science because I enjoy exploring complex data and discovering patterns and insights that can inform decision making.*\n"
   ],
   "metadata": {
    "collapsed": false
   }
  },
  {
   "cell_type": "markdown",
   "source": [
    "### Description\n",
    "This code will demonstrate a simple addition operation in Python and display the result."
   ],
   "metadata": {
    "collapsed": false
   }
  },
  {
   "cell_type": "code",
   "execution_count": 2,
   "outputs": [
    {
     "data": {
      "text/plain": "11"
     },
     "execution_count": 2,
     "metadata": {},
     "output_type": "execute_result"
    }
   ],
   "source": [
    "# Simple addition example\n",
    "5 + 6"
   ],
   "metadata": {
    "collapsed": false
   }
  },
  {
   "cell_type": "markdown",
   "source": [
    "---\n",
    "\n",
    "### My Favorite Books\n",
    "\n",
    "Here are some of my favorite books, in no particular order:\n",
    "\n",
    "- *The Catcher in the Rye* by J.D. Salinger\n",
    "- *To Kill a Mockingbird* by Harper Lee\n",
    "- *1984* by George Orwell\n",
    "\n",
    "| Book Title | Author | Year Published |\n",
    "|------------|--------|----------------|\n",
    "| *The Catcher in the Rye* | J.D. Salinger | 1951 |\n",
    "| *To Kill a Mockingbird* | Harper Lee | 1960 |\n",
    "| *1984* | George Orwell | 1949 |\n",
    "\n",
    "Check out these [book reviews](https://www.goodreads.com/) for more great reading!"
   ],
   "metadata": {
    "collapsed": false
   }
  }
 ],
 "metadata": {
  "kernelspec": {
   "display_name": "Python 3",
   "language": "python",
   "name": "python3"
  },
  "language_info": {
   "codemirror_mode": {
    "name": "ipython",
    "version": 2
   },
   "file_extension": ".py",
   "mimetype": "text/x-python",
   "name": "python",
   "nbconvert_exporter": "python",
   "pygments_lexer": "ipython2",
   "version": "2.7.6"
  }
 },
 "nbformat": 4,
 "nbformat_minor": 0
}
